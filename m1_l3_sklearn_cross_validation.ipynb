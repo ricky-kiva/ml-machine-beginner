{
  "nbformat": 4,
  "nbformat_minor": 0,
  "metadata": {
    "colab": {
      "provenance": [],
      "authorship_tag": "ABX9TyO03LRo6g85jSrxInr9n0Kh",
      "include_colab_link": true
    },
    "kernelspec": {
      "name": "python3",
      "display_name": "Python 3"
    },
    "language_info": {
      "name": "python"
    }
  },
  "cells": [
    {
      "cell_type": "markdown",
      "metadata": {
        "id": "view-in-github",
        "colab_type": "text"
      },
      "source": [
        "<a href=\"https://colab.research.google.com/github/ricky-kiva/ml-machine-beginner/blob/main/m1_l3_sklearn_cross_validation.ipynb\" target=\"_parent\"><img src=\"https://colab.research.google.com/assets/colab-badge.svg\" alt=\"Open In Colab\"/></a>"
      ]
    },
    {
      "cell_type": "markdown",
      "source": [
        "# Cross Validation Split"
      ],
      "metadata": {
        "id": "q8-cjLzWNYF2"
      }
    },
    {
      "cell_type": "code",
      "source": [
        "# import libraries\n",
        "import sklearn\n",
        "from sklearn import datasets"
      ],
      "metadata": {
        "id": "L7DWAh9eNd1N"
      },
      "execution_count": 1,
      "outputs": []
    },
    {
      "cell_type": "markdown",
      "source": [
        "Load dataset"
      ],
      "metadata": {
        "id": "FJA190mfNkjb"
      }
    },
    {
      "cell_type": "code",
      "source": [
        "iris = datasets.load_iris()\n",
        "x, y = iris.data, iris.target"
      ],
      "metadata": {
        "id": "PL38dWMpNmHU"
      },
      "execution_count": 2,
      "outputs": []
    },
    {
      "cell_type": "markdown",
      "source": [
        "Make decision tree classifier"
      ],
      "metadata": {
        "id": "R7CHWojkN09B"
      }
    },
    {
      "cell_type": "code",
      "source": [
        "from sklearn import tree\n",
        "\n",
        "# instantiate decision tree classifier\n",
        "clf = tree.DecisionTreeClassifier()"
      ],
      "metadata": {
        "id": "L48fX0AcNu6Z"
      },
      "execution_count": 3,
      "outputs": []
    },
    {
      "cell_type": "markdown",
      "source": [
        "evaluate model performance"
      ],
      "metadata": {
        "id": "-NqysIvWObnD"
      }
    },
    {
      "cell_type": "code",
      "source": [
        "from sklearn.model_selection import cross_val_score\n",
        "\n",
        "scores = cross_val_score(clf, x, y, cv=5)"
      ],
      "metadata": {
        "id": "r5QPQtBKOhZX"
      },
      "execution_count": 9,
      "outputs": []
    },
    {
      "cell_type": "markdown",
      "source": [
        "Check the cross validation score of the Decision Tree model"
      ],
      "metadata": {
        "id": "kR7hfm-nO3AO"
      }
    },
    {
      "cell_type": "code",
      "source": [
        "print(f'average score: {sum(scores)/len(scores)}')\n",
        "scores"
      ],
      "metadata": {
        "colab": {
          "base_uri": "https://localhost:8080/"
        },
        "id": "YRJdkXGgO8AL",
        "outputId": "cd9171bd-b98f-4c59-edb8-166282ec6ee4"
      },
      "execution_count": 15,
      "outputs": [
        {
          "output_type": "stream",
          "name": "stdout",
          "text": [
            "average score: 0.9600000000000002\n"
          ]
        },
        {
          "output_type": "execute_result",
          "data": {
            "text/plain": [
              "array([0.96666667, 0.96666667, 0.9       , 0.96666667, 1.        ])"
            ]
          },
          "metadata": {},
          "execution_count": 15
        }
      ]
    },
    {
      "cell_type": "markdown",
      "source": [
        "*   The array above represents each of the 5 fold's **accuracy**\n",
        "*   Result between 0.85 to 1 are good\n",
        "*   Can take the overall model accuracy from the **mean** of the fold's accuracy\n",
        "\n"
      ],
      "metadata": {
        "id": "AheV7JyGPdsk"
      }
    }
  ]
}