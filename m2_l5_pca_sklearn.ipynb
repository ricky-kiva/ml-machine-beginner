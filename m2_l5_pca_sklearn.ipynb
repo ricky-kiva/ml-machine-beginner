{
  "nbformat": 4,
  "nbformat_minor": 0,
  "metadata": {
    "colab": {
      "provenance": [],
      "authorship_tag": "ABX9TyOiZ6aQfdVeC+t5HwKE94Xn",
      "include_colab_link": true
    },
    "kernelspec": {
      "name": "python3",
      "display_name": "Python 3"
    },
    "language_info": {
      "name": "python"
    }
  },
  "cells": [
    {
      "cell_type": "markdown",
      "metadata": {
        "id": "view-in-github",
        "colab_type": "text"
      },
      "source": [
        "<a href=\"https://colab.research.google.com/github/ricky-kiva/ml-machine-beginner/blob/main/m2_l5_pca_sklearn.ipynb\" target=\"_parent\"><img src=\"https://colab.research.google.com/assets/colab-badge.svg\" alt=\"Open In Colab\"/></a>"
      ]
    },
    {
      "cell_type": "markdown",
      "source": [
        "# **PCA (Principal component analysis)**"
      ],
      "metadata": {
        "id": "UaGjZC1WzeX1"
      }
    },
    {
      "cell_type": "code",
      "source": [
        "# import libraries\n",
        "from sklearn import datasets\n",
        "from sklearn.model_selection import train_test_split"
      ],
      "metadata": {
        "id": "Z8vYnR8szvJh"
      },
      "execution_count": 1,
      "outputs": []
    },
    {
      "cell_type": "markdown",
      "source": [
        "Import dataset"
      ],
      "metadata": {
        "id": "1CzV29B8z3JX"
      }
    },
    {
      "cell_type": "code",
      "source": [
        "iris = datasets.load_iris()\n",
        "attribute, label = iris.data, iris.target"
      ],
      "metadata": {
        "id": "Wj7_xZ8iz5t0"
      },
      "execution_count": 2,
      "outputs": []
    },
    {
      "cell_type": "markdown",
      "source": [
        "Split train & test set"
      ],
      "metadata": {
        "id": "1qs50e24z_vJ"
      }
    },
    {
      "cell_type": "code",
      "source": [
        "# split by 80%\n",
        "X_train, X_test, y_train, y_test = train_test_split(attribute, label, test_size=0.2, random_state=1)"
      ],
      "metadata": {
        "id": "De8r6aQ00CBj"
      },
      "execution_count": 3,
      "outputs": []
    },
    {
      "cell_type": "markdown",
      "source": [
        "Build Decision tree model, **without PCA**"
      ],
      "metadata": {
        "id": "oxbBNCDI0UNY"
      }
    },
    {
      "cell_type": "code",
      "source": [
        "from sklearn import tree\n",
        "\n",
        "decision_tree = tree.DecisionTreeClassifier()\n",
        "\n",
        "# train the model\n",
        "first_model = decision_tree.fit(X_train, y_train)\n",
        "\n",
        "# evaluate model accuracy\n",
        "first_model.score(X_test, y_test)"
      ],
      "metadata": {
        "colab": {
          "base_uri": "https://localhost:8080/"
        },
        "id": "FLX5A_a30ala",
        "outputId": "d64959bd-0262-4e9a-c9d7-cb4067b5be7b"
      },
      "execution_count": 4,
      "outputs": [
        {
          "output_type": "execute_result",
          "data": {
            "text/plain": [
              "0.9666666666666667"
            ]
          },
          "metadata": {},
          "execution_count": 4
        }
      ]
    },
    {
      "cell_type": "markdown",
      "source": [
        "Applying **PCA** (Exploration)"
      ],
      "metadata": {
        "id": "jwv8Xloz00NA"
      }
    },
    {
      "cell_type": "code",
      "source": [
        "from sklearn.decomposition import PCA\n",
        "\n",
        "# instantiate PCA object with 4 principal component\n",
        "pca = PCA(n_components=4)\n",
        "\n",
        "# apply PCA to dataset\n",
        "pca_attributes = pca.fit_transform(X_train)\n",
        "\n",
        "# see variance of every attributes\n",
        "pca.explained_variance_ratio_"
      ],
      "metadata": {
        "colab": {
          "base_uri": "https://localhost:8080/"
        },
        "id": "0_aubX4j1L6R",
        "outputId": "c074cd3e-7bac-4864-9b34-fbec5d4809a7"
      },
      "execution_count": 6,
      "outputs": [
        {
          "output_type": "execute_result",
          "data": {
            "text/plain": [
              "array([0.92848323, 0.04764372, 0.01931005, 0.004563  ])"
            ]
          },
          "metadata": {},
          "execution_count": 6
        }
      ]
    },
    {
      "cell_type": "markdown",
      "source": [
        "Applying **PCA**\n",
        "*   Using 2 value of the best PCA (0.92 & 0.047)\n",
        "*   Because 0.92 + 0.047 = 0.967 (near 100)"
      ],
      "metadata": {
        "id": "6d0bJ5ov1d3M"
      }
    },
    {
      "cell_type": "code",
      "source": [
        "pca = PCA(n_components=2)\n",
        "X_train_pca = pca.fit_transform(X_train)\n",
        "X_test_pca = pca.fit_transform(X_test)"
      ],
      "metadata": {
        "id": "K3Bn0AJJ2NCE"
      },
      "execution_count": 8,
      "outputs": []
    },
    {
      "cell_type": "markdown",
      "source": [
        "Train & score model **using PCA**"
      ],
      "metadata": {
        "id": "t0laDxl63HB3"
      }
    },
    {
      "cell_type": "code",
      "source": [
        "model2 = decision_tree.fit(X_train_pca, y_train)\n",
        "model2.score(X_test_pca, y_test)"
      ],
      "metadata": {
        "colab": {
          "base_uri": "https://localhost:8080/"
        },
        "id": "NlZ3z_1F3SjZ",
        "outputId": "c20ca89a-b62d-42b4-cf9e-446f2ca67dae"
      },
      "execution_count": 9,
      "outputs": [
        {
          "output_type": "execute_result",
          "data": {
            "text/plain": [
              "0.9333333333333333"
            ]
          },
          "metadata": {},
          "execution_count": 9
        }
      ]
    },
    {
      "cell_type": "markdown",
      "source": [
        "**Result:** Model still have a high accuracy with reduced components"
      ],
      "metadata": {
        "id": "CiBGD5fw3Zj2"
      }
    }
  ]
}